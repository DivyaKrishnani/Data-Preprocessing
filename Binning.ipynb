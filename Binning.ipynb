{
 "cells": [
  {
   "cell_type": "markdown",
   "metadata": {},
   "source": [
    "# Noise Smoothing"
   ]
  },
  {
   "cell_type": "code",
   "execution_count": 1,
   "metadata": {},
   "outputs": [],
   "source": [
    "import pandas as pd\n",
    "import numpy as np\n"
   ]
  },
  {
   "cell_type": "code",
   "execution_count": 2,
   "metadata": {},
   "outputs": [
    {
     "name": "stdout",
     "output_type": "stream",
     "text": [
      "      T\n",
      "0    79\n",
      "1    60\n",
      "2    12\n",
      "3    87\n",
      "4    93\n",
      "5    81\n",
      "6     8\n",
      "7    71\n",
      "8    99\n",
      "9    13\n",
      "10   69\n",
      "11   44\n",
      "12   49\n",
      "13   73\n",
      "14   74\n",
      "15   44\n",
      "16   91\n",
      "17   57\n",
      "18   45\n",
      "19    1\n",
      "20   13\n",
      "21   85\n",
      "22   87\n",
      "23   89\n",
      "24   50\n",
      "25    3\n",
      "26   44\n",
      "27   75\n",
      "28   22\n",
      "29   76\n",
      "..   ..\n",
      "170  93\n",
      "171  94\n",
      "172  49\n",
      "173   1\n",
      "174  68\n",
      "175  95\n",
      "176  99\n",
      "177  16\n",
      "178  23\n",
      "179  38\n",
      "180  38\n",
      "181  31\n",
      "182  19\n",
      "183  60\n",
      "184  15\n",
      "185  10\n",
      "186  28\n",
      "187   7\n",
      "188  92\n",
      "189  60\n",
      "190  73\n",
      "191  96\n",
      "192  76\n",
      "193   6\n",
      "194  91\n",
      "195  18\n",
      "196  13\n",
      "197  51\n",
      "198  12\n",
      "199  90\n",
      "\n",
      "[200 rows x 1 columns]\n"
     ]
    }
   ],
   "source": [
    "n=200\n",
    "df = pd.DataFrame(np.random.randint(0,100,size=(n,1)), columns = list('T'))\n",
    "print(df)"
   ]
  },
  {
   "cell_type": "markdown",
   "metadata": {},
   "source": [
    "## Equal Width Binning"
   ]
  },
  {
   "cell_type": "code",
   "execution_count": 5,
   "metadata": {},
   "outputs": [
    {
     "data": {
      "image/png": "[encoded data removed]",
      "text/plain": [
       "<Figure size 432x288 with 1 Axes>"
      ]
     },
     "metadata": {},
     "output_type": "display_data"
    },
    {
     "name": "stdout",
     "output_type": "stream",
     "text": [
      "Bins\n",
      "[ 0.   9.9 19.8 29.7 39.6 49.5 59.4 69.3 79.2 89.1 99. ]\n"
     ]
    }
   ],
   "source": [
    "import matplotlib.pyplot as plt\n",
    "hist = plt.hist(df['T'], ec=\"black\")\n",
    "plt.show()\n",
    "print(\"Bins\")\n",
    "print(hist[1])"
   ]
  },
  {
   "cell_type": "code",
   "execution_count": 6,
   "metadata": {},
   "outputs": [],
   "source": [
    "df2 = df.copy()\n",
    "df3 = df.copy()"
   ]
  },
  {
   "cell_type": "code",
   "execution_count": 7,
   "metadata": {},
   "outputs": [],
   "source": [
    "#pd.cut(np.array(df2['T']),10)"
   ]
  },
  {
   "cell_type": "code",
   "execution_count": 8,
   "metadata": {},
   "outputs": [
    {
     "data": {
      "image/png": "[encoded data removed]",
      "text/plain": [
       "<Figure size 432x288 with 1 Axes>"
      ]
     },
     "metadata": {},
     "output_type": "display_data"
    },
    {
     "name": "stdout",
     "output_type": "stream",
     "text": [
      "Bins\n",
      "[ 0.  16.5 33.  49.5 66.  82.5 99. ]\n"
     ]
    }
   ],
   "source": [
    "#Scott\n",
    "hist = plt.hist(np.array(df['T']),bins=\"scott\",ec=\"black\")\n",
    "plt.show()\n",
    "print(\"Bins\")\n",
    "print(hist[1])"
   ]
  },
  {
   "cell_type": "code",
   "execution_count": 9,
   "metadata": {},
   "outputs": [
    {
     "data": {
      "image/png": "[encoded data removed]",
      "text/plain": [
       "<Figure size 432x288 with 1 Axes>"
      ]
     },
     "metadata": {},
     "output_type": "display_data"
    },
    {
     "name": "stdout",
     "output_type": "stream",
     "text": [
      "Bins\n",
      "[ 0.         14.14285714 28.28571429 42.42857143 56.57142857 70.71428571\n",
      " 84.85714286 99.        ]\n"
     ]
    }
   ],
   "source": [
    "#Freedman Diaconis Estimator\n",
    "hist = plt.hist(np.array(df['T']),bins=\"fd\",ec=\"black\")\n",
    "plt.show()\n",
    "print(\"Bins\")\n",
    "print(hist[1])"
   ]
  },
  {
   "cell_type": "code",
   "execution_count": 10,
   "metadata": {},
   "outputs": [
    {
     "data": {
      "image/png": "[encoded data removed]",
      "text/plain": [
       "<Figure size 432x288 with 1 Axes>"
      ]
     },
     "metadata": {},
     "output_type": "display_data"
    },
    {
     "name": "stdout",
     "output_type": "stream",
     "text": [
      "Bins\n",
      "[ 0.    8.25 16.5  24.75 33.   41.25 49.5  57.75 66.   74.25 82.5  90.75\n",
      " 99.  ]\n"
     ]
    }
   ],
   "source": [
    "#Rice\n",
    "hist = plt.hist(np.array(df['T']),bins=\"rice\",ec=\"black\")\n",
    "plt.show()\n",
    "print(\"Bins\")\n",
    "print(hist[1])"
   ]
  },
  {
   "cell_type": "code",
   "execution_count": 11,
   "metadata": {},
   "outputs": [
    {
     "data": {
      "image/png": "[encoded data removed]",
      "text/plain": [
       "<Figure size 432x288 with 1 Axes>"
      ]
     },
     "metadata": {},
     "output_type": "display_data"
    },
    {
     "name": "stdout",
     "output_type": "stream",
     "text": [
      "Bins\n",
      "[ 0. 11. 22. 33. 44. 55. 66. 77. 88. 99.]\n"
     ]
    }
   ],
   "source": [
    "#Sturges\n",
    "hist = plt.hist(np.array(df['T']),bins=\"sturges\",ec=\"black\")\n",
    "plt.show()\n",
    "print(\"Bins\")\n",
    "print(hist[1])"
   ]
  },
  {
   "cell_type": "code",
   "execution_count": 12,
   "metadata": {},
   "outputs": [],
   "source": [
    "import math\n",
    "import statistics\n",
    "\n",
    "def sturge(n):\n",
    "    k = 1 + 3.222 * math.log10(n)\n",
    "    return k\n",
    "\n",
    "def scott(a, n):\n",
    "    stddev = statistics.stdev(a)\n",
    "    k = 3.49 * stddev * (n**(-1/3))\n",
    "    return k\n",
    "\n",
    "def rice(n):\n",
    "    k = 2 * n**(1/3)\n",
    "    return k \n",
    "\n",
    "def freedman(a, n):\n",
    "    iqr = a.quantile()\n",
    "    k = (2 * iqr)/(n**(1/3))\n",
    "    return k"
   ]
  },
  {
   "cell_type": "code",
   "execution_count": 13,
   "metadata": {},
   "outputs": [
    {
     "data": {
      "text/plain": [
       "8.413918646029348"
      ]
     },
     "execution_count": 13,
     "metadata": {},
     "output_type": "execute_result"
    }
   ],
   "source": [
    "sturge(n)"
   ]
  },
  {
   "cell_type": "code",
   "execution_count": 14,
   "metadata": {},
   "outputs": [
    {
     "data": {
      "text/plain": [
       "16.674949774357373"
      ]
     },
     "execution_count": 14,
     "metadata": {},
     "output_type": "execute_result"
    }
   ],
   "source": [
    "scott(df['T'],n)"
   ]
  },
  {
   "cell_type": "code",
   "execution_count": 15,
   "metadata": {},
   "outputs": [
    {
     "data": {
      "text/plain": [
       "11.696070952851462"
      ]
     },
     "execution_count": 15,
     "metadata": {},
     "output_type": "execute_result"
    }
   ],
   "source": [
    "rice(n)"
   ]
  },
  {
   "cell_type": "code",
   "execution_count": 16,
   "metadata": {},
   "outputs": [
    {
     "data": {
      "text/plain": [
       "16.073773898760955"
      ]
     },
     "execution_count": 16,
     "metadata": {},
     "output_type": "execute_result"
    }
   ],
   "source": [
    "freedman(df['T'],n)"
   ]
  },
  {
   "cell_type": "code",
   "execution_count": 17,
   "metadata": {},
   "outputs": [
    {
     "data": {
      "image/png": "[encoded data removed]",
      "text/plain": [
       "<Figure size 432x288 with 1 Axes>"
      ]
     },
     "metadata": {},
     "output_type": "display_data"
    },
    {
     "name": "stdout",
     "output_type": "stream",
     "text": [
      "Bins\n",
      "[ 0.   9.9 19.8 29.7 39.6 49.5 59.4 69.3 79.2 89.1 99. ]\n"
     ]
    }
   ],
   "source": [
    "hist = plt.hist(df['T'], ec=\"black\", density=False)\n",
    "plt.show()\n",
    "print(\"Bins\")\n",
    "print(hist[1])"
   ]
  },
  {
   "cell_type": "markdown",
   "metadata": {},
   "source": [
    "## Equal Depth Binning\n",
    "\n",
    "### Each bin having a depth 20(10% of observations)"
   ]
  },
  {
   "cell_type": "code",
   "execution_count": 18,
   "metadata": {},
   "outputs": [
    {
     "data": {
      "text/plain": [
       "array([ 0,  1,  1,  2,  2,  3,  4,  5,  5,  6,  6,  6,  6,  7,  7,  8,  8,\n",
       "        9,  9, 10, 11, 12, 12, 12, 12, 12, 12, 13, 13, 13, 13, 15, 16, 18,\n",
       "       18, 18, 19, 19, 19, 19, 20, 20, 20, 21, 22, 22, 22, 23, 23, 24, 24,\n",
       "       26, 26, 26, 27, 27, 27, 27, 27, 28, 28, 29, 29, 30, 30, 30, 31, 31,\n",
       "       31, 32, 33, 36, 36, 36, 36, 37, 37, 37, 38, 38, 38, 38, 39, 39, 40,\n",
       "       41, 42, 42, 43, 43, 43, 43, 44, 44, 44, 45, 46, 46, 46, 47, 47, 48,\n",
       "       49, 49, 49, 49, 50, 50, 51, 51, 51, 52, 52, 52, 53, 53, 53, 54, 54,\n",
       "       54, 56, 56, 57, 57, 57, 57, 57, 58, 59, 60, 60, 60, 61, 61, 62, 63,\n",
       "       64, 65, 65, 65, 65, 65, 66, 66, 66, 66, 68, 69, 71, 71, 71, 72, 72,\n",
       "       73, 73, 73, 73, 73, 74, 75, 75, 75, 76, 76, 76, 77, 77, 78, 79, 80,\n",
       "       81, 85, 86, 87, 87, 87, 87, 88, 89, 89, 90, 90, 91, 91, 92, 93, 93,\n",
       "       93, 93, 94, 94, 95, 95, 96, 96, 96, 97, 98, 99, 99])"
      ]
     },
     "execution_count": 18,
     "metadata": {},
     "output_type": "execute_result"
    }
   ],
   "source": [
    "mylist = np.array(df['T'])\n",
    "mylist\n",
    "mylist.sort()\n",
    "mylist"
   ]
  },
  {
   "cell_type": "code",
   "execution_count": 24,
   "metadata": {},
   "outputs": [
    {
     "data": {
      "image/png": "[encoded data removed]",
      "text/plain": [
       "<Figure size 432x288 with 1 Axes>"
      ]
     },
     "metadata": {},
     "output_type": "display_data"
    },
    {
     "name": "stdout",
     "output_type": "stream",
     "text": [
      "10\n",
      "10\n",
      "[20, 20, 20, 20, 20, 20, 20, 20, 20, 20]\n",
      "[10, 11, 20, 28, 38, 47, 56, 65, 75, 90]\n"
     ]
    }
   ],
   "source": [
    "x=[]\n",
    "y=[]\n",
    "for i in range(0,200,20):\n",
    "    x.append(20)\n",
    "    k = mylist[i]\n",
    "    for j in range(20):\n",
    "        if(k<mylist[j]):\n",
    "            k = mylist[j]\n",
    "    y.append(k) \n",
    "    i=i+20\n",
    "\n",
    "plt.bar(y,x,edgecolor='r',width=20)\n",
    "plt.title(\"Equal Depth Binning\")\n",
    "plt.show()\n",
    "print(len(x))\n",
    "print(len(y))\n",
    "print(x)\n",
    "print(y)"
   ]
  },
  {
   "cell_type": "code",
   "execution_count": null,
   "metadata": {},
   "outputs": [],
   "source": []
  }
 ],
 "metadata": {
  "kernelspec": {
   "display_name": "Python 3",
   "language": "python",
   "name": "python3"
  },
  "language_info": {
   "codemirror_mode": {
    "name": "ipython",
    "version": 3
   },
   "file_extension": ".py",
   "mimetype": "text/x-python",
   "name": "python",
   "nbconvert_exporter": "python",
   "pygments_lexer": "ipython3",
   "version": "3.6.4"
  }
 },
 "nbformat": 4,
 "nbformat_minor": 2
}
